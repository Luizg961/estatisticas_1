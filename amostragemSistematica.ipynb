{
 "cells": [
  {
   "cell_type": "code",
   "execution_count": 2,
   "id": "07922dea-e311-46bc-8fdd-244b09c78603",
   "metadata": {},
   "outputs": [],
   "source": [
    "import pandas as pd\n",
    "import numpy as np \n",
    "from math import ceil"
   ]
  },
  {
   "cell_type": "code",
   "execution_count": 118,
   "id": "27010c6e-c52a-4294-98bc-62a091ddaedd",
   "metadata": {},
   "outputs": [
    {
     "name": "stdout",
     "output_type": "stream",
     "text": [
      "10\n"
     ]
    }
   ],
   "source": [
    "papulacao = 150\n",
    "amostra = 15\n",
    "k = ceil(papulacao / amostra)\n",
    "\n",
    "print(k)"
   ]
  },
  {
   "cell_type": "code",
   "execution_count": 120,
   "id": "48803db6-492f-4fcc-8d49-c6801e638a31",
   "metadata": {},
   "outputs": [
    {
     "name": "stdout",
     "output_type": "stream",
     "text": [
      "[9]\n"
     ]
    }
   ],
   "source": [
    "r = np.random.randint(low = 1 , high = k+1, size =1)\n",
    "print(r)"
   ]
  },
  {
   "cell_type": "code",
   "execution_count": 122,
   "id": "565b211e-aa6a-445b-a5ce-7b5cf685c497",
   "metadata": {},
   "outputs": [
    {
     "name": "stdout",
     "output_type": "stream",
     "text": [
      "[9, 19, 29, 39, 49, 59, 69, 79, 89, 99, 109, 119, 129, 139, 149]\n"
     ]
    }
   ],
   "source": [
    "\n",
    "acumulador = r[0]\n",
    "sorteado = []\n",
    "\n",
    "for i in range(amostra):\n",
    "    sorteado.append(acumulador)\n",
    "    acumulador += k\n",
    "print(sorteado)"
   ]
  },
  {
   "cell_type": "code",
   "execution_count": 124,
   "id": "3ae9c6b3-a749-43f2-b642-d1e1c12ccbd1",
   "metadata": {},
   "outputs": [
    {
     "data": {
      "text/plain": [
       "15"
      ]
     },
     "execution_count": 124,
     "metadata": {},
     "output_type": "execute_result"
    }
   ],
   "source": [
    "len(sorteado)\n"
   ]
  },
  {
   "cell_type": "code",
   "execution_count": 126,
   "id": "d3c156b7-d9eb-4e1f-ae71-c4f95cf097e9",
   "metadata": {},
   "outputs": [
    {
     "name": "stdout",
     "output_type": "stream",
     "text": [
      "     sepal length  sepal width  petal length  petal width            class\n",
      "9             4.9          3.1           1.5          0.1      Iris-setosa\n",
      "19            5.1          3.8           1.5          0.3      Iris-setosa\n",
      "29            4.7          3.2           1.6          0.2      Iris-setosa\n",
      "39            5.1          3.4           1.5          0.2      Iris-setosa\n",
      "49            5.0          3.3           1.4          0.2      Iris-setosa\n",
      "59            5.2          2.7           3.9          1.4  Iris-versicolor\n",
      "69            5.6          2.5           3.9          1.1  Iris-versicolor\n",
      "79            5.7          2.6           3.5          1.0  Iris-versicolor\n",
      "89            5.5          2.5           4.0          1.3  Iris-versicolor\n",
      "99            5.7          2.8           4.1          1.3  Iris-versicolor\n",
      "109           7.2          3.6           6.1          2.5   Iris-virginica\n",
      "119           6.0          2.2           5.0          1.5   Iris-virginica\n",
      "129           7.2          3.0           5.8          1.6   Iris-virginica\n",
      "139           6.9          3.1           5.4          2.1   Iris-virginica\n",
      "149           5.9          3.0           5.1          1.8   Iris-virginica\n"
     ]
    }
   ],
   "source": [
    "base = pd.read_csv(\"DADOS/iris.csv\")\n",
    "base_final = base.loc[sorteado]\n",
    "print(base_final)"
   ]
  },
  {
   "cell_type": "code",
   "execution_count": null,
   "id": "e2216937-e788-4627-a262-6011cc71a37d",
   "metadata": {},
   "outputs": [],
   "source": []
  }
 ],
 "metadata": {
  "kernelspec": {
   "display_name": "Python [conda env:base] *",
   "language": "python",
   "name": "conda-base-py"
  },
  "language_info": {
   "codemirror_mode": {
    "name": "ipython",
    "version": 3
   },
   "file_extension": ".py",
   "mimetype": "text/x-python",
   "name": "python",
   "nbconvert_exporter": "python",
   "pygments_lexer": "ipython3",
   "version": "3.12.7"
  }
 },
 "nbformat": 4,
 "nbformat_minor": 5
}
