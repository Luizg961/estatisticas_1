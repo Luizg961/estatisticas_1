{
 "cells": [
  {
   "cell_type": "code",
   "execution_count": 3,
   "id": "2a590e38-7d0f-4bce-91e5-ee24739557b4",
   "metadata": {},
   "outputs": [],
   "source": [
    "from scipy.stats import binom"
   ]
  },
  {
   "cell_type": "code",
   "execution_count": 21,
   "id": "1c50eb6d-3255-42f5-bff3-dc9ae3633a6f",
   "metadata": {},
   "outputs": [
    {
     "data": {
      "text/plain": [
       "0.31249999999999983"
      ]
     },
     "execution_count": 21,
     "metadata": {},
     "output_type": "execute_result"
    }
   ],
   "source": [
    "prob = binom.pmf(3,5,0.5)\n",
    "prob"
   ]
  },
  {
   "cell_type": "code",
   "execution_count": 25,
   "id": "81a0b8a8-87dd-43e7-83cf-35d0e5e5343e",
   "metadata": {},
   "outputs": [
    {
     "data": {
      "text/plain": [
       "1.0000000000000002"
      ]
     },
     "execution_count": 25,
     "metadata": {},
     "output_type": "execute_result"
    }
   ],
   "source": [
    "binom.pmf(0,4,0.25) + binom.pmf(1,4,0.25) + binom.pmf(2,4,0.25) + binom.pmf(3,4,0.25) + binom.pmf(4,4,0.25)\n",
    "\n",
    "\n",
    "#binom.pmf(0,4,0.25)"
   ]
  },
  {
   "cell_type": "code",
   "execution_count": 27,
   "id": "cfd95bad-9f2f-46d3-8f9b-26f6b01e13ec",
   "metadata": {},
   "outputs": [
    {
     "data": {
      "text/plain": [
       "0.0625"
      ]
     },
     "execution_count": 27,
     "metadata": {},
     "output_type": "execute_result"
    }
   ],
   "source": [
    "binom.pmf(4,4,0.5)"
   ]
  },
  {
   "cell_type": "code",
   "execution_count": 53,
   "id": "0f317f47-2d9b-4d72-9c45-205a290ac0ee",
   "metadata": {},
   "outputs": [
    {
     "data": {
      "text/plain": [
       "0.99609375"
      ]
     },
     "execution_count": 53,
     "metadata": {},
     "output_type": "execute_result"
    }
   ],
   "source": [
    "binom.cdf(3,4,0.25)"
   ]
  },
  {
   "cell_type": "code",
   "execution_count": 55,
   "id": "008c2026-4b13-4d26-ac9e-f9958a4215dd",
   "metadata": {},
   "outputs": [
    {
     "data": {
      "text/plain": [
       "1.1471271514892587"
      ]
     },
     "execution_count": 55,
     "metadata": {},
     "output_type": "execute_result"
    }
   ],
   "source": [
    "binom.pmf(7,12,0.25) * 100"
   ]
  },
  {
   "cell_type": "code",
   "execution_count": 57,
   "id": "4fc58656-37dd-4b1d-a33d-f7add6e22468",
   "metadata": {},
   "outputs": [
    {
     "data": {
      "text/plain": [
       "5.9604644775390625e-06"
      ]
     },
     "execution_count": 57,
     "metadata": {},
     "output_type": "execute_result"
    }
   ],
   "source": [
    "binom.pmf(12,12,0.25) * 100"
   ]
  },
  {
   "cell_type": "code",
   "execution_count": null,
   "id": "5c061e92-6a45-4deb-8c90-a9c817cae3e4",
   "metadata": {},
   "outputs": [],
   "source": []
  }
 ],
 "metadata": {
  "kernelspec": {
   "display_name": "Python [conda env:base] *",
   "language": "python",
   "name": "conda-base-py"
  },
  "language_info": {
   "codemirror_mode": {
    "name": "ipython",
    "version": 3
   },
   "file_extension": ".py",
   "mimetype": "text/x-python",
   "name": "python",
   "nbconvert_exporter": "python",
   "pygments_lexer": "ipython3",
   "version": "3.12.7"
  }
 },
 "nbformat": 4,
 "nbformat_minor": 5
}
